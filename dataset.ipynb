{
 "cells": [
  {
   "cell_type": "markdown",
   "metadata": {},
   "source": [
    "https://huggingface.co/docs/transformers/main/en/model_doc/llama"
   ]
  },
  {
   "cell_type": "code",
   "execution_count": 1,
   "metadata": {},
   "outputs": [
    {
     "data": {
      "text/plain": [
       "True"
      ]
     },
     "execution_count": 1,
     "metadata": {},
     "output_type": "execute_result"
    }
   ],
   "source": [
    "from transformers import LlamaForCausalLM, AutoTokenizer\n",
    "import datasets\n",
    "import os\n",
    "import torch\n",
    "import pandas as pd\n",
    "import json\n",
    "import numpy as np\n",
    "torch.cuda.is_available()"
   ]
  },
  {
   "cell_type": "code",
   "execution_count": 2,
   "metadata": {},
   "outputs": [
    {
     "data": {
      "application/vnd.jupyter.widget-view+json": {
       "model_id": "58612d27af2342938e8a67db378ea2cc",
       "version_major": 2,
       "version_minor": 0
      },
      "text/plain": [
       "Loading checkpoint shards:   0%|          | 0/2 [00:00<?, ?it/s]"
      ]
     },
     "metadata": {},
     "output_type": "display_data"
    }
   ],
   "source": [
    "path = '/mnt/data/zoo/llama2/llama2-7b-hf/'\n",
    "tokenizer = AutoTokenizer.from_pretrained(path)\n",
    "model = LlamaForCausalLM.from_pretrained(path, torch_dtype=torch.float16).cuda()"
   ]
  },
  {
   "cell_type": "code",
   "execution_count": 3,
   "metadata": {},
   "outputs": [],
   "source": [
    "input_ids = tokenizer(\n",
    "    '',\n",
    "    return_tensors=\"pt\"\n",
    ").input_ids  # Batch size 1"
   ]
  },
  {
   "cell_type": "code",
   "execution_count": 4,
   "metadata": {},
   "outputs": [
    {
     "name": "stderr",
     "output_type": "stream",
     "text": [
      "/mnt/data/sonia/miniconda3/envs/llama/lib/python3.11/site-packages/transformers/generation/utils.py:1270: UserWarning: You have modified the pretrained model configuration to control generation. This is a deprecated strategy to control generation and will be removed soon, in a future version. Please use a generation configuration file (see https://huggingface.co/docs/transformers/main_classes/text_generation )\n",
      "  warnings.warn(\n"
     ]
    },
    {
     "data": {
      "text/plain": [
       "'Tags: c#, asp.net, asp.net-mvc, asp.net-mvc-4, asp.net-mvc-5\\n\\nQuestion: How to get the value of a checkbox in a view in ASP.NET MVC\\n\\nI have a view with a checkbox and a button.\\n\\n\\\\begin{code}\\n<input type=\"checkbox\" name=\"IsActive\" value=\"true\" />\\n<input type=\"submit\" value=\"Save\" />\\n\\\\'"
      ]
     },
     "execution_count": 4,
     "metadata": {},
     "output_type": "execute_result"
    }
   ],
   "source": [
    "outputs = model.generate(input_ids.cuda(), max_new_tokens=100)\n",
    "tokenizer.batch_decode(outputs, skip_special_tokens=True, clean_up_tokenization_spaces=False)[0]\n",
    "# tokenizer.decode(outputs[0], skip_special_tokens=True)"
   ]
  },
  {
   "cell_type": "code",
   "execution_count": 5,
   "metadata": {},
   "outputs": [
    {
     "data": {
      "text/plain": [
       "tensor([[    1,   917, 29901,   274,  6552,  7051, 29889,  1212, 29892,  7051,\n",
       "         29889,  1212, 29899, 12943, 29892,  7051, 29889,  1212, 29899, 12943,\n",
       "         29899, 29946, 29892,  7051, 29889,  1212, 29899, 12943, 29899, 29945,\n",
       "            13,    13, 16492, 29901,  1128,   304,   679,   278,   995,   310,\n",
       "           263, 12527,   297,   263,  1776,   297, 12738, 29889,  6006, 13348,\n",
       "            13,    13, 29902,   505,   263,  1776,   411,   263, 12527,   322,\n",
       "           263,  2826, 29889,    13,    13, 29905,   463, 29912,   401, 29913,\n",
       "            13, 29966,  2080,  1134,   543, 12348, 29908,  1024,   543,  3624,\n",
       "          9966, 29908,   995,   543,  3009, 29908,  2900,    13, 29966,  2080,\n",
       "          1134,   543,  7892, 29908,   995,   543, 11371, 29908,  2900,    13,\n",
       "         29905]], device='cuda:0')"
      ]
     },
     "execution_count": 5,
     "metadata": {},
     "output_type": "execute_result"
    }
   ],
   "source": [
    "outputs"
   ]
  },
  {
   "cell_type": "markdown",
   "metadata": {},
   "source": [
    "## Dataset"
   ]
  },
  {
   "cell_type": "code",
   "execution_count": 2,
   "metadata": {},
   "outputs": [
    {
     "data": {
      "text/html": [
       "<div>\n",
       "<style scoped>\n",
       "    .dataframe tbody tr th:only-of-type {\n",
       "        vertical-align: middle;\n",
       "    }\n",
       "\n",
       "    .dataframe tbody tr th {\n",
       "        vertical-align: top;\n",
       "    }\n",
       "\n",
       "    .dataframe thead th {\n",
       "        text-align: right;\n",
       "    }\n",
       "</style>\n",
       "<table border=\"1\" class=\"dataframe\">\n",
       "  <thead>\n",
       "    <tr style=\"text-align: right;\">\n",
       "      <th></th>\n",
       "      <th>os</th>\n",
       "      <th>ip_str</th>\n",
       "      <th>port</th>\n",
       "      <th>module</th>\n",
       "      <th>cpe</th>\n",
       "      <th>cpe_count</th>\n",
       "      <th>category</th>\n",
       "      <th>os_generic</th>\n",
       "      <th>single_cpe</th>\n",
       "    </tr>\n",
       "  </thead>\n",
       "  <tbody>\n",
       "    <tr>\n",
       "      <th>0</th>\n",
       "      <td>Ubuntu</td>\n",
       "      <td>43.205.13.243</td>\n",
       "      <td>21</td>\n",
       "      <td>ftp</td>\n",
       "      <td>NaN</td>\n",
       "      <td>0</td>\n",
       "      <td>file_sharing</td>\n",
       "      <td>ubuntu</td>\n",
       "      <td>NaN</td>\n",
       "    </tr>\n",
       "    <tr>\n",
       "      <th>1</th>\n",
       "      <td>Ubuntu</td>\n",
       "      <td>43.205.13.243</td>\n",
       "      <td>22</td>\n",
       "      <td>ssh</td>\n",
       "      <td>['cpe:/a:openbsd:openssh:8.2p1 Ubuntu-4ubuntu0...</td>\n",
       "      <td>1</td>\n",
       "      <td>remote_access</td>\n",
       "      <td>ubuntu</td>\n",
       "      <td>cpe:/a:openbsd:openssh:8.2p1 Ubuntu-4ubuntu0.5</td>\n",
       "    </tr>\n",
       "    <tr>\n",
       "      <th>2</th>\n",
       "      <td>Ubuntu</td>\n",
       "      <td>43.205.13.243</td>\n",
       "      <td>80</td>\n",
       "      <td>http</td>\n",
       "      <td>['cpe:/a:igor_sysoev:nginx']</td>\n",
       "      <td>1</td>\n",
       "      <td>webserver</td>\n",
       "      <td>ubuntu</td>\n",
       "      <td>cpe:/a:igor_sysoev:nginx</td>\n",
       "    </tr>\n",
       "    <tr>\n",
       "      <th>3</th>\n",
       "      <td>Ubuntu</td>\n",
       "      <td>43.205.13.243</td>\n",
       "      <td>443</td>\n",
       "      <td>https</td>\n",
       "      <td>['cpe:/a:igor_sysoev:nginx']</td>\n",
       "      <td>1</td>\n",
       "      <td>webserver</td>\n",
       "      <td>ubuntu</td>\n",
       "      <td>cpe:/a:igor_sysoev:nginx</td>\n",
       "    </tr>\n",
       "    <tr>\n",
       "      <th>4</th>\n",
       "      <td>Windows (Build 6.3.9600)</td>\n",
       "      <td>206.233.189.205</td>\n",
       "      <td>80</td>\n",
       "      <td>http</td>\n",
       "      <td>['cpe:/a:igor_sysoev:nginx']</td>\n",
       "      <td>1</td>\n",
       "      <td>webserver</td>\n",
       "      <td>windows</td>\n",
       "      <td>cpe:/a:igor_sysoev:nginx</td>\n",
       "    </tr>\n",
       "  </tbody>\n",
       "</table>\n",
       "</div>"
      ],
      "text/plain": [
       "                         os           ip_str  port module  \\\n",
       "0                    Ubuntu    43.205.13.243    21    ftp   \n",
       "1                    Ubuntu    43.205.13.243    22    ssh   \n",
       "2                    Ubuntu    43.205.13.243    80   http   \n",
       "3                    Ubuntu    43.205.13.243   443  https   \n",
       "4  Windows (Build 6.3.9600)  206.233.189.205    80   http   \n",
       "\n",
       "                                                 cpe  cpe_count  \\\n",
       "0                                                NaN          0   \n",
       "1  ['cpe:/a:openbsd:openssh:8.2p1 Ubuntu-4ubuntu0...          1   \n",
       "2                       ['cpe:/a:igor_sysoev:nginx']          1   \n",
       "3                       ['cpe:/a:igor_sysoev:nginx']          1   \n",
       "4                       ['cpe:/a:igor_sysoev:nginx']          1   \n",
       "\n",
       "        category os_generic                                      single_cpe  \n",
       "0   file_sharing     ubuntu                                             NaN  \n",
       "1  remote_access     ubuntu  cpe:/a:openbsd:openssh:8.2p1 Ubuntu-4ubuntu0.5  \n",
       "2      webserver     ubuntu                        cpe:/a:igor_sysoev:nginx  \n",
       "3      webserver     ubuntu                        cpe:/a:igor_sysoev:nginx  \n",
       "4      webserver    windows                        cpe:/a:igor_sysoev:nginx  "
      ]
     },
     "execution_count": 2,
     "metadata": {},
     "output_type": "execute_result"
    }
   ],
   "source": [
    "datapath = '/mnt/data/sonia/honeygan/data/processed/data.csv'\n",
    "df = pd.read_csv(datapath)\n",
    "df.head()"
   ]
  },
  {
   "cell_type": "code",
   "execution_count": 5,
   "metadata": {},
   "outputs": [],
   "source": [
    "zs = np.random.randint(low=0, high=9999, size=df.shape[0]) #latent variable"
   ]
  },
  {
   "cell_type": "code",
   "execution_count": 7,
   "metadata": {},
   "outputs": [
    {
     "data": {
      "text/plain": [
       "{'input': ['9262', '1897', '4645', '2088', '3459'],\n",
       " 'output': [\"{'os': 'Ubuntu', 'ip_str': '43.205.13.243', 'port': 21, 'module': 'ftp', 'cpe': None, 'cpe_count': 0, 'category': 'file_sharing', 'os_generic': 'ubuntu', 'single_cpe': None}\",\n",
       "  '{\\'os\\': \\'Ubuntu\\', \\'ip_str\\': \\'43.205.13.243\\', \\'port\\': 22, \\'module\\': \\'ssh\\', \\'cpe\\': \"[\\'cpe:/a:openbsd:openssh:8.2p1 Ubuntu-4ubuntu0.5\\']\", \\'cpe_count\\': 1, \\'category\\': \\'remote_access\\', \\'os_generic\\': \\'ubuntu\\', \\'single_cpe\\': \\'cpe:/a:openbsd:openssh:8.2p1 Ubuntu-4ubuntu0.5\\'}',\n",
       "  '{\\'os\\': \\'Ubuntu\\', \\'ip_str\\': \\'43.205.13.243\\', \\'port\\': 80, \\'module\\': \\'http\\', \\'cpe\\': \"[\\'cpe:/a:igor_sysoev:nginx\\']\", \\'cpe_count\\': 1, \\'category\\': \\'webserver\\', \\'os_generic\\': \\'ubuntu\\', \\'single_cpe\\': \\'cpe:/a:igor_sysoev:nginx\\'}',\n",
       "  '{\\'os\\': \\'Ubuntu\\', \\'ip_str\\': \\'43.205.13.243\\', \\'port\\': 443, \\'module\\': \\'https\\', \\'cpe\\': \"[\\'cpe:/a:igor_sysoev:nginx\\']\", \\'cpe_count\\': 1, \\'category\\': \\'webserver\\', \\'os_generic\\': \\'ubuntu\\', \\'single_cpe\\': \\'cpe:/a:igor_sysoev:nginx\\'}',\n",
       "  '{\\'os\\': \\'Windows (Build 6.3.9600)\\', \\'ip_str\\': \\'206.233.189.205\\', \\'port\\': 80, \\'module\\': \\'http\\', \\'cpe\\': \"[\\'cpe:/a:igor_sysoev:nginx\\']\", \\'cpe_count\\': 1, \\'category\\': \\'webserver\\', \\'os_generic\\': \\'windows\\', \\'single_cpe\\': \\'cpe:/a:igor_sysoev:nginx\\'}']}"
      ]
     },
     "execution_count": 7,
     "metadata": {},
     "output_type": "execute_result"
    }
   ],
   "source": [
    "parsed=json.loads(df.to_json(orient='records'))\n",
    "data_list=[{'input':str(z), 'output':str(r)} for z, r in zip(zs, parsed)]\n",
    "data = datasets.Dataset.from_list(data_list)\n",
    "data[:5]"
   ]
  },
  {
   "cell_type": "code",
   "execution_count": 8,
   "metadata": {},
   "outputs": [
    {
     "data": {
      "application/vnd.jupyter.widget-view+json": {
       "model_id": "ea8aea70cc544fa890b73d1b6cbe4283",
       "version_major": 2,
       "version_minor": 0
      },
      "text/plain": [
       "Saving the dataset (0/1 shards):   0%|          | 0/1043945 [00:00<?, ? examples/s]"
      ]
     },
     "metadata": {},
     "output_type": "display_data"
    }
   ],
   "source": [
    "data.save_to_disk('/mnt/data/sonia/honeygan/llama_format_jul25.dat')"
   ]
  },
  {
   "cell_type": "code",
   "execution_count": 24,
   "metadata": {},
   "outputs": [],
   "source": [
    "reloaded_dataset = datasets.load_from_disk('/mnt/data/sonia/honeygan/llama_format_jul25.dat')\n",
    "reloaded_dataset"
   ]
  }
 ],
 "metadata": {
  "kernelspec": {
   "display_name": "otmt",
   "language": "python",
   "name": "python3"
  },
  "language_info": {
   "codemirror_mode": {
    "name": "ipython",
    "version": 3
   },
   "file_extension": ".py",
   "mimetype": "text/x-python",
   "name": "python",
   "nbconvert_exporter": "python",
   "pygments_lexer": "ipython3",
   "version": "3.11.4"
  },
  "orig_nbformat": 4
 },
 "nbformat": 4,
 "nbformat_minor": 2
}

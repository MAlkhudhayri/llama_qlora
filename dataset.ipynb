{
 "cells": [
  {
   "cell_type": "markdown",
   "metadata": {},
   "source": [
    "## Dataset"
   ]
  },
  {
   "cell_type": "markdown",
   "metadata": {},
   "source": [
    "What is cpe? https://www.acunetix.com/blog/articles/common-platform-enumeration-cpe-explained/"
   ]
  },
  {
   "cell_type": "code",
   "execution_count": 5,
   "metadata": {},
   "outputs": [
    {
     "name": "stdout",
     "output_type": "stream",
     "text": [
      "os                 0\n",
      "ip_str             0\n",
      "port               0\n",
      "module             0\n",
      "cpe           734580\n",
      "cpe_count          0\n",
      "category           0\n",
      "os_generic         0\n",
      "single_cpe    824511\n",
      "dtype: int64\n"
     ]
    },
    {
     "data": {
      "text/html": [
       "<div>\n",
       "<style scoped>\n",
       "    .dataframe tbody tr th:only-of-type {\n",
       "        vertical-align: middle;\n",
       "    }\n",
       "\n",
       "    .dataframe tbody tr th {\n",
       "        vertical-align: top;\n",
       "    }\n",
       "\n",
       "    .dataframe thead th {\n",
       "        text-align: right;\n",
       "    }\n",
       "</style>\n",
       "<table border=\"1\" class=\"dataframe\">\n",
       "  <thead>\n",
       "    <tr style=\"text-align: right;\">\n",
       "      <th></th>\n",
       "      <th>os</th>\n",
       "      <th>ip_str</th>\n",
       "      <th>port</th>\n",
       "      <th>module</th>\n",
       "      <th>cpe</th>\n",
       "      <th>cpe_count</th>\n",
       "      <th>category</th>\n",
       "      <th>os_generic</th>\n",
       "      <th>single_cpe</th>\n",
       "    </tr>\n",
       "  </thead>\n",
       "  <tbody>\n",
       "    <tr>\n",
       "      <th>0</th>\n",
       "      <td>Ubuntu</td>\n",
       "      <td>43.205.13.243</td>\n",
       "      <td>21</td>\n",
       "      <td>ftp</td>\n",
       "      <td>NaN</td>\n",
       "      <td>0</td>\n",
       "      <td>file_sharing</td>\n",
       "      <td>ubuntu</td>\n",
       "      <td>NaN</td>\n",
       "    </tr>\n",
       "    <tr>\n",
       "      <th>1</th>\n",
       "      <td>Ubuntu</td>\n",
       "      <td>43.205.13.243</td>\n",
       "      <td>22</td>\n",
       "      <td>ssh</td>\n",
       "      <td>['cpe:/a:openbsd:openssh:8.2p1 Ubuntu-4ubuntu0...</td>\n",
       "      <td>1</td>\n",
       "      <td>remote_access</td>\n",
       "      <td>ubuntu</td>\n",
       "      <td>cpe:/a:openbsd:openssh:8.2p1 Ubuntu-4ubuntu0.5</td>\n",
       "    </tr>\n",
       "    <tr>\n",
       "      <th>2</th>\n",
       "      <td>Ubuntu</td>\n",
       "      <td>43.205.13.243</td>\n",
       "      <td>80</td>\n",
       "      <td>http</td>\n",
       "      <td>['cpe:/a:igor_sysoev:nginx']</td>\n",
       "      <td>1</td>\n",
       "      <td>webserver</td>\n",
       "      <td>ubuntu</td>\n",
       "      <td>cpe:/a:igor_sysoev:nginx</td>\n",
       "    </tr>\n",
       "    <tr>\n",
       "      <th>3</th>\n",
       "      <td>Ubuntu</td>\n",
       "      <td>43.205.13.243</td>\n",
       "      <td>443</td>\n",
       "      <td>https</td>\n",
       "      <td>['cpe:/a:igor_sysoev:nginx']</td>\n",
       "      <td>1</td>\n",
       "      <td>webserver</td>\n",
       "      <td>ubuntu</td>\n",
       "      <td>cpe:/a:igor_sysoev:nginx</td>\n",
       "    </tr>\n",
       "    <tr>\n",
       "      <th>4</th>\n",
       "      <td>Windows (Build 6.3.9600)</td>\n",
       "      <td>206.233.189.205</td>\n",
       "      <td>80</td>\n",
       "      <td>http</td>\n",
       "      <td>['cpe:/a:igor_sysoev:nginx']</td>\n",
       "      <td>1</td>\n",
       "      <td>webserver</td>\n",
       "      <td>windows</td>\n",
       "      <td>cpe:/a:igor_sysoev:nginx</td>\n",
       "    </tr>\n",
       "  </tbody>\n",
       "</table>\n",
       "</div>"
      ],
      "text/plain": [
       "                         os           ip_str  port module  \\\n",
       "0                    Ubuntu    43.205.13.243    21    ftp   \n",
       "1                    Ubuntu    43.205.13.243    22    ssh   \n",
       "2                    Ubuntu    43.205.13.243    80   http   \n",
       "3                    Ubuntu    43.205.13.243   443  https   \n",
       "4  Windows (Build 6.3.9600)  206.233.189.205    80   http   \n",
       "\n",
       "                                                 cpe  cpe_count  \\\n",
       "0                                                NaN          0   \n",
       "1  ['cpe:/a:openbsd:openssh:8.2p1 Ubuntu-4ubuntu0...          1   \n",
       "2                       ['cpe:/a:igor_sysoev:nginx']          1   \n",
       "3                       ['cpe:/a:igor_sysoev:nginx']          1   \n",
       "4                       ['cpe:/a:igor_sysoev:nginx']          1   \n",
       "\n",
       "        category os_generic                                      single_cpe  \n",
       "0   file_sharing     ubuntu                                             NaN  \n",
       "1  remote_access     ubuntu  cpe:/a:openbsd:openssh:8.2p1 Ubuntu-4ubuntu0.5  \n",
       "2      webserver     ubuntu                        cpe:/a:igor_sysoev:nginx  \n",
       "3      webserver     ubuntu                        cpe:/a:igor_sysoev:nginx  \n",
       "4      webserver    windows                        cpe:/a:igor_sysoev:nginx  "
      ]
     },
     "execution_count": 5,
     "metadata": {},
     "output_type": "execute_result"
    }
   ],
   "source": [
    "import pandas as pd\n",
    "import numpy as np\n",
    "import json\n",
    "import datasets\n",
    "np.random.seed(42)\n",
    "\n",
    "datapath = '/mnt/data/sonia/honeygan/data/processed/data.csv'\n",
    "df = pd.read_csv(datapath)\n",
    "print(df.isna().sum())\n",
    "df.head()"
   ]
  },
  {
   "cell_type": "code",
   "execution_count": 6,
   "metadata": {},
   "outputs": [
    {
     "name": "stdout",
     "output_type": "stream",
     "text": [
      "os            0\n",
      "ip_str        0\n",
      "port          0\n",
      "module        0\n",
      "category      0\n",
      "os_generic    0\n",
      "single_cpe    0\n",
      "dtype: int64 (1043945, 9)\n"
     ]
    },
    {
     "name": "stderr",
     "output_type": "stream",
     "text": [
      "/tmp/ipykernel_34794/2783460533.py:2: SettingWithCopyWarning: \n",
      "A value is trying to be set on a copy of a slice from a DataFrame\n",
      "\n",
      "See the caveats in the documentation: https://pandas.pydata.org/pandas-docs/stable/user_guide/indexing.html#returning-a-view-versus-a-copy\n",
      "  dfs.drop(['cpe', 'cpe_count'], axis=1, inplace=True)\n"
     ]
    },
    {
     "data": {
      "text/html": [
       "<div>\n",
       "<style scoped>\n",
       "    .dataframe tbody tr th:only-of-type {\n",
       "        vertical-align: middle;\n",
       "    }\n",
       "\n",
       "    .dataframe tbody tr th {\n",
       "        vertical-align: top;\n",
       "    }\n",
       "\n",
       "    .dataframe thead th {\n",
       "        text-align: right;\n",
       "    }\n",
       "</style>\n",
       "<table border=\"1\" class=\"dataframe\">\n",
       "  <thead>\n",
       "    <tr style=\"text-align: right;\">\n",
       "      <th></th>\n",
       "      <th>os</th>\n",
       "      <th>ip_str</th>\n",
       "      <th>port</th>\n",
       "      <th>module</th>\n",
       "      <th>category</th>\n",
       "      <th>os_generic</th>\n",
       "      <th>single_cpe</th>\n",
       "    </tr>\n",
       "  </thead>\n",
       "  <tbody>\n",
       "    <tr>\n",
       "      <th>1</th>\n",
       "      <td>Ubuntu</td>\n",
       "      <td>43.205.13.243</td>\n",
       "      <td>22</td>\n",
       "      <td>ssh</td>\n",
       "      <td>remote_access</td>\n",
       "      <td>ubuntu</td>\n",
       "      <td>cpe:/a:openbsd:openssh:8.2p1 Ubuntu-4ubuntu0.5</td>\n",
       "    </tr>\n",
       "    <tr>\n",
       "      <th>2</th>\n",
       "      <td>Ubuntu</td>\n",
       "      <td>43.205.13.243</td>\n",
       "      <td>80</td>\n",
       "      <td>http</td>\n",
       "      <td>webserver</td>\n",
       "      <td>ubuntu</td>\n",
       "      <td>cpe:/a:igor_sysoev:nginx</td>\n",
       "    </tr>\n",
       "    <tr>\n",
       "      <th>3</th>\n",
       "      <td>Ubuntu</td>\n",
       "      <td>43.205.13.243</td>\n",
       "      <td>443</td>\n",
       "      <td>https</td>\n",
       "      <td>webserver</td>\n",
       "      <td>ubuntu</td>\n",
       "      <td>cpe:/a:igor_sysoev:nginx</td>\n",
       "    </tr>\n",
       "    <tr>\n",
       "      <th>4</th>\n",
       "      <td>Windows (Build 6.3.9600)</td>\n",
       "      <td>206.233.189.205</td>\n",
       "      <td>80</td>\n",
       "      <td>http</td>\n",
       "      <td>webserver</td>\n",
       "      <td>windows</td>\n",
       "      <td>cpe:/a:igor_sysoev:nginx</td>\n",
       "    </tr>\n",
       "    <tr>\n",
       "      <th>6</th>\n",
       "      <td>Windows (Build 6.3.9600)</td>\n",
       "      <td>206.233.189.205</td>\n",
       "      <td>8081</td>\n",
       "      <td>https-simple-new</td>\n",
       "      <td>webserver</td>\n",
       "      <td>windows</td>\n",
       "      <td>cpe:/a:igor_sysoev:nginx</td>\n",
       "    </tr>\n",
       "  </tbody>\n",
       "</table>\n",
       "</div>"
      ],
      "text/plain": [
       "                         os           ip_str  port            module  \\\n",
       "1                    Ubuntu    43.205.13.243    22               ssh   \n",
       "2                    Ubuntu    43.205.13.243    80              http   \n",
       "3                    Ubuntu    43.205.13.243   443             https   \n",
       "4  Windows (Build 6.3.9600)  206.233.189.205    80              http   \n",
       "6  Windows (Build 6.3.9600)  206.233.189.205  8081  https-simple-new   \n",
       "\n",
       "        category os_generic                                      single_cpe  \n",
       "1  remote_access     ubuntu  cpe:/a:openbsd:openssh:8.2p1 Ubuntu-4ubuntu0.5  \n",
       "2      webserver     ubuntu                        cpe:/a:igor_sysoev:nginx  \n",
       "3      webserver     ubuntu                        cpe:/a:igor_sysoev:nginx  \n",
       "4      webserver    windows                        cpe:/a:igor_sysoev:nginx  \n",
       "6      webserver    windows                        cpe:/a:igor_sysoev:nginx  "
      ]
     },
     "execution_count": 6,
     "metadata": {},
     "output_type": "execute_result"
    }
   ],
   "source": [
    "dfs = df[(~df.single_cpe.isna())]\n",
    "dfs.drop(['cpe', 'cpe_count'], axis=1, inplace=True)\n",
    "print(dfs.isna().sum(), df.shape)\n",
    "dfs.head()"
   ]
  },
  {
   "cell_type": "code",
   "execution_count": 7,
   "metadata": {},
   "outputs": [],
   "source": [
    "zs = np.random.randint(low=0, high=9999, size=dfs.shape[0]) #latent variable"
   ]
  },
  {
   "cell_type": "code",
   "execution_count": 8,
   "metadata": {},
   "outputs": [
    {
     "data": {
      "text/plain": [
       "{'input': ['7270', '860', '5390', '5191', '5734'],\n",
       " 'output': [\"{'os': 'Ubuntu', 'ip_str': '43.205.13.243', 'port': 22, 'module': 'ssh', 'category': 'remote_access', 'os_generic': 'ubuntu', 'single_cpe': 'cpe:/a:openbsd:openssh:8.2p1 Ubuntu-4ubuntu0.5'}\",\n",
       "  \"{'os': 'Ubuntu', 'ip_str': '43.205.13.243', 'port': 80, 'module': 'http', 'category': 'webserver', 'os_generic': 'ubuntu', 'single_cpe': 'cpe:/a:igor_sysoev:nginx'}\",\n",
       "  \"{'os': 'Ubuntu', 'ip_str': '43.205.13.243', 'port': 443, 'module': 'https', 'category': 'webserver', 'os_generic': 'ubuntu', 'single_cpe': 'cpe:/a:igor_sysoev:nginx'}\",\n",
       "  \"{'os': 'Windows (Build 6.3.9600)', 'ip_str': '206.233.189.205', 'port': 80, 'module': 'http', 'category': 'webserver', 'os_generic': 'windows', 'single_cpe': 'cpe:/a:igor_sysoev:nginx'}\",\n",
       "  \"{'os': 'Windows (Build 6.3.9600)', 'ip_str': '206.233.189.205', 'port': 8081, 'module': 'https-simple-new', 'category': 'webserver', 'os_generic': 'windows', 'single_cpe': 'cpe:/a:igor_sysoev:nginx'}\"]}"
      ]
     },
     "execution_count": 8,
     "metadata": {},
     "output_type": "execute_result"
    }
   ],
   "source": [
    "parsed=json.loads(dfs.to_json(orient='records'))\n",
    "data_list=[{'input':str(z), 'output':str(r)} for z, r in zip(zs, parsed)]\n",
    "data = datasets.Dataset.from_list(data_list)\n",
    "data[:5]"
   ]
  },
  {
   "cell_type": "code",
   "execution_count": 10,
   "metadata": {},
   "outputs": [
    {
     "data": {
      "application/vnd.jupyter.widget-view+json": {
       "model_id": "b0136671ba6743ab832c44ce3bc6e2ca",
       "version_major": 2,
       "version_minor": 0
      },
      "text/plain": [
       "Saving the dataset (0/1 shards):   0%|          | 0/219434 [00:00<?, ? examples/s]"
      ]
     },
     "metadata": {},
     "output_type": "display_data"
    }
   ],
   "source": [
    "sub = data[:5000]\n",
    "data.save_to_disk('/mnt/data/sonia/honeygan/shodan_5000_feb14.dat')"
   ]
  },
  {
   "cell_type": "markdown",
   "metadata": {},
   "source": [
    "## Save"
   ]
  },
  {
   "cell_type": "code",
   "execution_count": 5,
   "metadata": {},
   "outputs": [
    {
     "data": {
      "application/vnd.jupyter.widget-view+json": {
       "model_id": "ea917c3b25dd49c7b308cb5c4a22b478",
       "version_major": 2,
       "version_minor": 0
      },
      "text/plain": [
       "Saving the dataset (0/1 shards):   0%|          | 0/219434 [00:00<?, ? examples/s]"
      ]
     },
     "metadata": {},
     "output_type": "display_data"
    }
   ],
   "source": [
    "data.save_to_disk('/mnt/data/sonia/honeygan/llama_format_feb13.dat')"
   ]
  },
  {
   "cell_type": "code",
   "execution_count": 6,
   "metadata": {},
   "outputs": [
    {
     "data": {
      "text/plain": [
       "Dataset({\n",
       "    features: ['input', 'output'],\n",
       "    num_rows: 219434\n",
       "})"
      ]
     },
     "execution_count": 6,
     "metadata": {},
     "output_type": "execute_result"
    }
   ],
   "source": [
    "reloaded_dataset = datasets.load_from_disk('/mnt/data/sonia/honeygan/llama_format_feb13.dat')\n",
    "reloaded_dataset"
   ]
  }
 ],
 "metadata": {
  "kernelspec": {
   "display_name": "otmt",
   "language": "python",
   "name": "python3"
  },
  "language_info": {
   "codemirror_mode": {
    "name": "ipython",
    "version": 3
   },
   "file_extension": ".py",
   "mimetype": "text/x-python",
   "name": "python",
   "nbconvert_exporter": "python",
   "pygments_lexer": "ipython3",
   "version": "3.11.4"
  },
  "orig_nbformat": 4
 },
 "nbformat": 4,
 "nbformat_minor": 2
}

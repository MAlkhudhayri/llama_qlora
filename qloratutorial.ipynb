{
 "cells": [
  {
   "cell_type": "code",
   "execution_count": 1,
   "metadata": {},
   "outputs": [],
   "source": [
    "from peft import AutoPeftModelForCausalLM\n",
    "from transformers import AutoTokenizer\n",
    "import torch\n",
    "import json"
   ]
  },
  {
   "cell_type": "code",
   "execution_count": 5,
   "metadata": {},
   "outputs": [],
   "source": [
    "tokenizer = AutoTokenizer.from_pretrained('/mnt/data/zoo/llama2/llama2-7b-hf/')\n",
    "batch_size = 4\n",
    "input_ids = tokenizer(\n",
    "    # batch_size*[''],\n",
    "    ['4235', '5462', '7132', '6460'], \n",
    "    return_tensors=\"pt\"\n",
    ").input_ids  # Batch size 1\n",
    "\n",
    "def sample(step):\n",
    "    output_dir = f'/mnt/data/sonia/ckpts/llama-2-7b-jul25/checkpoint-{step}/adapter_model'\n",
    "    model = AutoPeftModelForCausalLM.from_pretrained(output_dir, device_map=\"auto\", torch_dtype=torch.bfloat16)\n",
    "    model = model.merge_and_unload() #returns type transformers.models.llama.modeling_llama.LlamaForCausalLM\n",
    "    \n",
    "    outputs = model.generate(input_ids.cuda(), max_new_tokens=100)\n",
    "    out=tokenizer.batch_decode(outputs, skip_special_tokens=True, clean_up_tokenization_spaces=False)\n",
    "    return out"
   ]
  },
  {
   "cell_type": "code",
   "execution_count": 6,
   "metadata": {},
   "outputs": [
    {
     "name": "stdout",
     "output_type": "stream",
     "text": [
      "10\n"
     ]
    },
    {
     "data": {
      "application/vnd.jupyter.widget-view+json": {
       "model_id": "14d852f8d19f44b482d3ab9d7b3ba6ef",
       "version_major": 2,
       "version_minor": 0
      },
      "text/plain": [
       "Loading checkpoint shards:   0%|          | 0/2 [00:00<?, ?it/s]"
      ]
     },
     "metadata": {},
     "output_type": "display_data"
    },
    {
     "name": "stderr",
     "output_type": "stream",
     "text": [
      "/mnt/data/sonia/miniconda3/envs/llama/lib/python3.11/site-packages/transformers/generation/utils.py:1270: UserWarning: You have modified the pretrained model configuration to control generation. This is a deprecated strategy to control generation and will be removed soon, in a future version. Please use a generation configuration file (see https://huggingface.co/docs/transformers/main_classes/text_generation )\n",
      "  warnings.warn(\n"
     ]
    },
    {
     "name": "stdout",
     "output_type": "stream",
     "text": [
      "4235.0 - Population by Age and Sex, Regions of Australia, 2011\n",
      "Population by Age and Sex, Regions of Australia, 2011\n",
      "Population by Age and Sex, Regions of Australia, 2011 (cat. no. 4235.0) was released on 28 June 2012.\n",
      "The ABS has released a new publication, Population by Age and Sex, Regions of\n",
      "5462.5000 - 5462.5000\n",
      "5462.5000 - 5462.5000 - 5462.5000\n",
      "5462.5000 - 5462.5000 - 5462.5000 - 5462.5000\n",
      "5462.500\n",
      "713200000000000000♠0.0000000000000000000♠0.000000000000000000♠0.000000000000000000♠0.000000000000000000♠\n",
      "6460000000000000000♠64.6×10−9\n",
      "10000000000000000000♠0.000000000000000000000000000000000000000000000000000\n",
      "\n",
      "20\n"
     ]
    },
    {
     "data": {
      "application/vnd.jupyter.widget-view+json": {
       "model_id": "d8e5919270d7467a89c0be9a94c405d6",
       "version_major": 2,
       "version_minor": 0
      },
      "text/plain": [
       "Loading checkpoint shards:   0%|          | 0/2 [00:00<?, ?it/s]"
      ]
     },
     "metadata": {},
     "output_type": "display_data"
    },
    {
     "name": "stdout",
     "output_type": "stream",
     "text": [
      "4235.1.55.99.99 Other\n",
      "4235.1.55.99.99 Other 100.00\n",
      "4235.1.55.99.99 Other 100.00 100.00\n",
      "4235.1.55.99.99 Other 100.00 100.00 1\n",
      "5462.10.00 10 Cigars, cheroots, cigarillos and cigarettes, of tobacco or of tobacco substitutes, whether or not flavoured, containing tobacco, and cigarette or cigar lighters. - Cigars: - Of tobacco or of tobacco substitutes - Other - Other - Other - Other - Other - Other - Other - Other - Other - Other\n",
      "713200000000000000♠0.1000000000000000000♠0.100000000000000000♠0.100000000000000000♠0.100000000000000000♠\n",
      "6460000000000000000♠0.1000000000000000000♠0.100000000000000000♠0.100000000000000000♠0.100000000000000000\n",
      "\n",
      "30\n"
     ]
    },
    {
     "data": {
      "application/vnd.jupyter.widget-view+json": {
       "model_id": "cabcc7e9db56409ebc2701b2b23d749d",
       "version_major": 2,
       "version_minor": 0
      },
      "text/plain": [
       "Loading checkpoint shards:   0%|          | 0/2 [00:00<?, ?it/s]"
      ]
     },
     "metadata": {},
     "output_type": "display_data"
    },
    {
     "name": "stdout",
     "output_type": "stream",
     "text": [
      "42350000000000000000000000000000000000000000000000000000000000000000000000000000000000000000000000000000\n",
      "5462.10.00 10 Cigars, cheroots, cigarillos and cigarettes, of tobacco or of tobacco substitutes, whether or not flavoured, containing tobacco, and cigarette or cigar lighters. - Cigars: - Of tobacco or of tobacco substitutes - Other - Other - Other - Other - Other - Other - Other - Other - Other - Other\n",
      "7132000000000000000♠0.1000000000000000000♠0.100000000000000000♠0.100000000000000000♠0.100000000000000000\n",
      "6460000000000000000♠64.1000000000000000000♠64.1%\n",
      "10000000000000000000♠0.0%\n",
      "10000000000000000000♠0.00%\n",
      "10\n",
      "\n",
      "40\n"
     ]
    },
    {
     "data": {
      "application/vnd.jupyter.widget-view+json": {
       "model_id": "73caa6b8bef941ef8cf6b4f6eaee1266",
       "version_major": 2,
       "version_minor": 0
      },
      "text/plain": [
       "Loading checkpoint shards:   0%|          | 0/2 [00:00<?, ?it/s]"
      ]
     },
     "metadata": {},
     "output_type": "display_data"
    },
    {
     "name": "stdout",
     "output_type": "stream",
     "text": [
      "42350000000000000000000000000000000000000000000000000000000000000000000000000000000000000000000000000000\n",
      "5462.10.00 10 Coffee, tea, maté and spices, whether or not flavoured or containing added sugar or other sweetening matter or flavoured, in bulk or packed in unit containers or packs of a kind used for retail sale. - Coffee, not roasted or decaffeinated - Free on board (f.o.b.)\n",
      "5462.10.00 10 C\n",
      "7132000000000000000♠0.1000000000000000000♠0.100000000000000000♠0.100000000000000000♠0.100000000000000000\n",
      "6460000000000000000♠0.1000000000000000000♠0.100000000000000000♠0.100000000000000000♠0.100000000000000000\n",
      "\n",
      "50\n"
     ]
    },
    {
     "data": {
      "application/vnd.jupyter.widget-view+json": {
       "model_id": "446520988fad4f5b80c8692a65c99a1b",
       "version_major": 2,
       "version_minor": 0
      },
      "text/plain": [
       "Loading checkpoint shards:   0%|          | 0/2 [00:00<?, ?it/s]"
      ]
     },
     "metadata": {},
     "output_type": "display_data"
    },
    {
     "name": "stdout",
     "output_type": "stream",
     "text": [
      "4235000000000000000♠42.350000000000000000♠+0.3500000000000000000♠+0.3500000000000000000♠+0.3500000000000\n",
      "5462.10.00 10 Coffee, tea, maté and spices, whether or not flavoured or containing added sugar or other sweetening matter or flavoured, in bulk or packed in unit containers or packs of a kind used for retail sale. - Coffee, not roasted or decaffeinated - Free on board (f.o.b.)\n",
      "5462.10.00 10 C\n",
      "713200000000000000♠0.1000000000000000000♠0.100000000000000000♠0.100000000000000000♠0.100000000000000000♠\n",
      "6460000000000000000♠0.1000000000000000000♠0.100000000000000000♠0.100000000000000000♠0.100000000000000000\n",
      "\n",
      "60\n"
     ]
    },
    {
     "data": {
      "application/vnd.jupyter.widget-view+json": {
       "model_id": "26e84ab82ea442b09a2f8174dc62a087",
       "version_major": 2,
       "version_minor": 0
      },
      "text/plain": [
       "Loading checkpoint shards:   0%|          | 0/2 [00:00<?, ?it/s]"
      ]
     },
     "metadata": {},
     "output_type": "display_data"
    },
    {
     "name": "stdout",
     "output_type": "stream",
     "text": [
      "42350000000000000000000000000000000000000000000000000000000000000000000000000000000000000000000000000000\n",
      "5462.10.00 10 Coffee, tea, maté and spices; ice in containers; artificial ice; instant foodstuffs; malt; starches and starch products. - Coffee, tea, maté and spices; ice in containers; artificial ice; instant foodstuffs; malt; starches and starch products - Coffee, tea, maté and spices - Coffee - Roasted\n",
      "713200000000000000♠0.100000000000000000♠0.100000000000000000♠0.100000000000000000♠0.100000000000000000♠0\n",
      "646000000000000000♠64.1%\n",
      "1000000000000000000♠0.0%\n",
      "1000000000000000000♠0.0% (2015)\n",
      "1000000000000000000♠0.0\n",
      "\n",
      "70\n"
     ]
    },
    {
     "data": {
      "application/vnd.jupyter.widget-view+json": {
       "model_id": "e3bcbf2fe3124dbdb14d4510530043f5",
       "version_major": 2,
       "version_minor": 0
      },
      "text/plain": [
       "Loading checkpoint shards:   0%|          | 0/2 [00:00<?, ?it/s]"
      ]
     },
     "metadata": {},
     "output_type": "display_data"
    },
    {
     "name": "stdout",
     "output_type": "stream",
     "text": [
      "4235.10.10 4235.10.50 4235.10.90 4235.20.10 4235.20.50 4235.20.90 4235.30.10 4235.30.50 4235.30.90 4235.\n",
      "5462.10.00 10% - 15% 5462.10.00 10% - 15%\n",
      "5462.90.00 10% - 15% 5462.90.00 10% - 15%\n",
      "5463.10.00 10% - 15% 5463\n",
      "713200000000000000♠0.1%\n",
      "The 2016 United States presidential election in New Hampshire took place on November 8, 2016, as part of the 2016 United States presidential election in which all 50 states plus the District of Columbia participated. New Hampshire voters chose four electors to represent them in the Electoral College via a popular vote pitting the\n",
      "646000000000000000♠64.1%\n",
      "1000000000000000000♠0.0%\n",
      "1000000000000000000♠0.0% (2015)\n",
      "1000000000000000000♠0.0\n",
      "\n",
      "80\n"
     ]
    },
    {
     "data": {
      "application/vnd.jupyter.widget-view+json": {
       "model_id": "e19943caa9bb46d29dcca4c7ff97bb84",
       "version_major": 2,
       "version_minor": 0
      },
      "text/plain": [
       "Loading checkpoint shards:   0%|          | 0/2 [00:00<?, ?it/s]"
      ]
     },
     "metadata": {},
     "output_type": "display_data"
    },
    {
     "name": "stdout",
     "output_type": "stream",
     "text": [
      "4235.10.10 4235.10.50 4235.10.50.10 4235.10.50.20 4235.10.50.30 4235.10.50.40 4235.10.50.50 4235.10.50.6\n",
      "5462.10.00 10% 10% - 10%\n",
      "5462.10.00 10% 10% - 10% 10% 10%\n",
      "5462.10.00 10% 10% - 10% 10% 10% 10%\n",
      "5462.10.00 1\n",
      "713200000000000000♠0.1%\n",
      "1000000000000000000♠0.0%\n",
      "1000000000000000000♠0.0%\n",
      "1000000000000000000♠0.0%[1]\n",
      "10\n",
      "646000000000000000♠64.1%\n",
      "1000000000000000000♠0.0%\n",
      "1000000000000000000♠0.0% (2015)\n",
      "1000000000000000000♠0.0\n",
      "\n",
      "90\n"
     ]
    },
    {
     "data": {
      "application/vnd.jupyter.widget-view+json": {
       "model_id": "4115766613d843199b6ed2de1b77523f",
       "version_major": 2,
       "version_minor": 0
      },
      "text/plain": [
       "Loading checkpoint shards:   0%|          | 0/2 [00:00<?, ?it/s]"
      ]
     },
     "metadata": {},
     "output_type": "display_data"
    },
    {
     "name": "stdout",
     "output_type": "stream",
     "text": [
      "42350000000000000000000000000000000000000000000000000000000000000000000000000000000000000000000000000000\n",
      "5462.10.00 10% 10,000,000,000 10,000,000,000.00 10,000,000,000.00 10,000,000,000.00 10,000,000,000.00 10\n",
      "713200000000000000♠0.1%\n",
      "1000000000000000000♠0.00%\n",
      "1000000000000000000♠0.00%\n",
      "1000000000000000000♠0.00%\n",
      "10\n",
      "646000000000000000♠64.\n",
      "646000000000000000♠64.\n",
      "646000000000000000♠64.0\n",
      "646000000000000000♠64.00\n",
      "646000000\n",
      "\n",
      "100\n"
     ]
    },
    {
     "data": {
      "application/vnd.jupyter.widget-view+json": {
       "model_id": "4530fd0f178247029b429e2747130815",
       "version_major": 2,
       "version_minor": 0
      },
      "text/plain": [
       "Loading checkpoint shards:   0%|          | 0/2 [00:00<?, ?it/s]"
      ]
     },
     "metadata": {},
     "output_type": "display_data"
    },
    {
     "name": "stdout",
     "output_type": "stream",
     "text": [
      "4235.10.10 4235.10.50 4235.10.50.10 4235.10.50.20 4235.10.50.30 4235.10.50.40 4235.10.50.50 4235.10.50.6\n",
      "5462.10.00 10% 10,000,000,000 10,000,000,000 10,000,000,000 10,000,000,000 10,000,000,000 10,000,000,000\n",
      "713200000000000000♠0.1%\n",
      "1000000000000000000♠0.00%\n",
      "100000000000000000♠0.00%\n",
      "100000000000000000♠0.00%\n",
      "1000\n",
      "646000000000000000♠64.1%\n",
      "1000000000000000000♠0.0%\n",
      "1000000000000000000♠0.0%\n",
      "1000000000000000000♠0.0% (2010\n",
      "\n"
     ]
    }
   ],
   "source": [
    "for i in range(10, 110, 10):\n",
    "    print(i)\n",
    "    for out in sample(i):\n",
    "        print(out)\n",
    "    print('')"
   ]
  },
  {
   "cell_type": "code",
   "execution_count": 4,
   "metadata": {},
   "outputs": [],
   "source": [
    "# json.loads(out[0].replace(\"'\", '\"').replace('None', 'null')) # for batch size 1"
   ]
  }
 ],
 "metadata": {
  "kernelspec": {
   "display_name": "llama",
   "language": "python",
   "name": "python3"
  },
  "language_info": {
   "codemirror_mode": {
    "name": "ipython",
    "version": 3
   },
   "file_extension": ".py",
   "mimetype": "text/x-python",
   "name": "python",
   "nbconvert_exporter": "python",
   "pygments_lexer": "ipython3",
   "version": "3.11.4"
  },
  "orig_nbformat": 4
 },
 "nbformat": 4,
 "nbformat_minor": 2
}
